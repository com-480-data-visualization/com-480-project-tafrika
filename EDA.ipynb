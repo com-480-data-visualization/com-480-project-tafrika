{
 "cells": [
  {
   "cell_type": "code",
   "execution_count": 4,
   "metadata": {},
   "outputs": [],
   "source": [
    "import pandas as pd\n",
    "import numpy as np"
   ]
  },
  {
   "cell_type": "markdown",
   "metadata": {},
   "source": [
    "## DATA CLEANING"
   ]
  },
  {
   "cell_type": "code",
   "execution_count": 5,
   "metadata": {},
   "outputs": [],
   "source": [
    "all_shots = pd.read_csv(\"data/NBA_2004_2023_Shots.csv\")"
   ]
  },
  {
   "cell_type": "code",
   "execution_count": 6,
   "metadata": {},
   "outputs": [],
   "source": [
    "season_shots = pd.read_csv(\"data/shot_logs.csv\")"
   ]
  },
  {
   "cell_type": "code",
   "execution_count": 45,
   "metadata": {},
   "outputs": [
    {
     "name": "stdout",
     "output_type": "stream",
     "text": [
      "<class 'pandas.core.frame.DataFrame'>\n",
      "RangeIndex: 128069 entries, 0 to 128068\n",
      "Data columns (total 21 columns):\n",
      " #   Column                      Non-Null Count   Dtype  \n",
      "---  ------                      --------------   -----  \n",
      " 0   GAME_ID                     128069 non-null  int64  \n",
      " 1   MATCHUP                     128069 non-null  object \n",
      " 2   LOCATION                    128069 non-null  object \n",
      " 3   W                           128069 non-null  object \n",
      " 4   FINAL_MARGIN                128069 non-null  int64  \n",
      " 5   SHOT_NUMBER                 128069 non-null  int64  \n",
      " 6   PERIOD                      128069 non-null  int64  \n",
      " 7   GAME_CLOCK                  128069 non-null  object \n",
      " 8   SHOT_CLOCK                  122502 non-null  float64\n",
      " 9   DRIBBLES                    128069 non-null  int64  \n",
      " 10  TOUCH_TIME                  128069 non-null  float64\n",
      " 11  SHOT_DIST                   128069 non-null  float64\n",
      " 12  PTS_TYPE                    128069 non-null  int64  \n",
      " 13  SHOT_RESULT                 128069 non-null  object \n",
      " 14  CLOSEST_DEFENDER            128069 non-null  object \n",
      " 15  CLOSEST_DEFENDER_PLAYER_ID  128069 non-null  int64  \n",
      " 16  CLOSE_DEF_DIST              128069 non-null  float64\n",
      " 17  FGM                         128069 non-null  int64  \n",
      " 18  PTS                         128069 non-null  int64  \n",
      " 19  player_name                 128069 non-null  object \n",
      " 20  player_id                   128069 non-null  int64  \n",
      "dtypes: float64(4), int64(10), object(7)\n",
      "memory usage: 20.5+ MB\n"
     ]
    }
   ],
   "source": [
    "season_shots.info(show_counts=True)"
   ]
  },
  {
   "cell_type": "code",
   "execution_count": 10,
   "metadata": {},
   "outputs": [
    {
     "name": "stdout",
     "output_type": "stream",
     "text": [
      "<class 'pandas.core.frame.DataFrame'>\n",
      "RangeIndex: 4012561 entries, 0 to 4012560\n",
      "Data columns (total 26 columns):\n",
      " #   Column          Non-Null Count    Dtype  \n",
      "---  ------          --------------    -----  \n",
      " 0   SEASON_1        4012561 non-null  int64  \n",
      " 1   SEASON_2        4012561 non-null  object \n",
      " 2   TEAM_ID         4012561 non-null  int64  \n",
      " 3   TEAM_NAME       4012561 non-null  object \n",
      " 4   PLAYER_ID       4012561 non-null  int64  \n",
      " 5   PLAYER_NAME     4012561 non-null  object \n",
      " 6   POSITION_GROUP  4005895 non-null  object \n",
      " 7   POSITION        4005895 non-null  object \n",
      " 8   GAME_DATE       4012561 non-null  object \n",
      " 9   GAME_ID         4012561 non-null  int64  \n",
      " 10  HOME_TEAM       4012561 non-null  object \n",
      " 11  AWAY_TEAM       4012561 non-null  object \n",
      " 12  EVENT_TYPE      4012561 non-null  object \n",
      " 13  SHOT_MADE       4012561 non-null  bool   \n",
      " 14  ACTION_TYPE     4012561 non-null  object \n",
      " 15  SHOT_TYPE       4012561 non-null  object \n",
      " 16  BASIC_ZONE      4012561 non-null  object \n",
      " 17  ZONE_NAME       4012561 non-null  object \n",
      " 18  ZONE_ABB        4012561 non-null  object \n",
      " 19  ZONE_RANGE      4012561 non-null  object \n",
      " 20  LOC_X           4012561 non-null  float64\n",
      " 21  LOC_Y           4012561 non-null  float64\n",
      " 22  SHOT_DISTANCE   4012561 non-null  int64  \n",
      " 23  QUARTER         4012561 non-null  int64  \n",
      " 24  MINS_LEFT       4012561 non-null  int64  \n",
      " 25  SECS_LEFT       4012561 non-null  int64  \n",
      "dtypes: bool(1), float64(2), int64(8), object(15)\n",
      "memory usage: 769.2+ MB\n"
     ]
    }
   ],
   "source": [
    "all_shots.info(show_counts=True)"
   ]
  },
  {
   "cell_type": "code",
   "execution_count": 63,
   "metadata": {},
   "outputs": [
    {
     "data": {
      "text/plain": [
       "POSITION\n",
       "SG          935548\n",
       "PG          843538\n",
       "PF          783132\n",
       "SF          729954\n",
       "C           634352\n",
       "SF-SG        15451\n",
       "SG-PG        11413\n",
       "PG-SG        11325\n",
       "PF-SF         8957\n",
       "SG-SF         7595\n",
       "SF-PF         7128\n",
       "PF-C          6503\n",
       "C-PF          6464\n",
       "SG-PF         3326\n",
       "Flexible      1782\n",
       "PG-SF          952\n",
       "SG-PG-SF       191\n",
       "SF-C            66\n",
       "Name: count, dtype: int64"
      ]
     },
     "execution_count": 63,
     "metadata": {},
     "output_type": "execute_result"
    }
   ],
   "source": [
    "all_shots[\"POSITION\"].value_counts()"
   ]
  },
  {
   "cell_type": "code",
   "execution_count": 64,
   "metadata": {},
   "outputs": [
    {
     "data": {
      "text/plain": [
       "POSITION_GROUP\n",
       "G    1813888\n",
       "F    1551191\n",
       "C     640816\n",
       "Name: count, dtype: int64"
      ]
     },
     "execution_count": 64,
     "metadata": {},
     "output_type": "execute_result"
    }
   ],
   "source": [
    "all_shots[\"POSITION_GROUP\"].value_counts()"
   ]
  },
  {
   "cell_type": "code",
   "execution_count": 61,
   "metadata": {},
   "outputs": [
    {
     "data": {
      "text/plain": [
       "PLAYER_NAME\n",
       "O.G. Anunoby          1635\n",
       "Jeffery Taylor         730\n",
       "P.J. Dozier            634\n",
       "Xavier Tillman Sr.     515\n",
       "T.J. Leaf              415\n",
       "Xavier Tillman         306\n",
       "Vitor Faverani         147\n",
       "AJ Green               125\n",
       "Charlie Brown Jr.      101\n",
       "Cam Reynolds            96\n",
       "Jeff Dowtin Jr.         57\n",
       "John Butler Jr.         53\n",
       "Michael Frazier II      29\n",
       "Jeff Dowtin             26\n",
       "Trevon Scott             6\n",
       "Chance Comanche          5\n",
       "M.J. Walker              4\n",
       "Name: count, dtype: int64"
      ]
     },
     "execution_count": 61,
     "metadata": {},
     "output_type": "execute_result"
    }
   ],
   "source": [
    "# Players with position nan\n",
    "all_shots[\"PLAYER_NAME\"][all_shots[\"POSITION\"].isna()].value_counts()"
   ]
  },
  {
   "cell_type": "code",
   "execution_count": 70,
   "metadata": {},
   "outputs": [],
   "source": [
    "# Positions were fixed based on data from https://www.basketball-reference.com/\n",
    "pos_dict = {\n",
    "    \"OG Anunoby\": \"SF\",\n",
    "    \"O.G. Anunoby\": \"SF\",\n",
    "    \"Jeffery Taylor\": \"SF\",\n",
    "    \"P.J. Dozier\": \"SG-SF-PG\",\n",
    "    \"T.J. Leaf\": \"PF\",\n",
    "    \"Xavier Tillman Sr.\": \"PF-C\",\n",
    "    \"Xavier Tillman\": \"PF-C\",\n",
    "    \"Vitor Faverani\": \"C\",\n",
    "    \"AJ Green\": \"SG\",\n",
    "    \"Charlie Brown Jr.\": \"SG\",\n",
    "    \"Cam Reynolds\": \"SF-SG\",\n",
    "    \"Jeff Dowtin Jr.\": \"PG\",\n",
    "    \"John Butler Jr.\": \"C\",\n",
    "    \"Michael Frazier II\": \"SG\",\n",
    "    \"Jeff Dowtin\": \"PG\",\n",
    "    \"Trevon Scott\": \"SF\",\n",
    "    \"Chance Comanche\": \"C\",\n",
    "    \"M.J. Walker\": \"SG\",\n",
    "}\n",
    "\n",
    "for player, position in pos_dict.items():\n",
    "    all_shots.loc[all_shots[\"PLAYER_NAME\"] == player, \"POSITION\"] = position\n",
    "    all_shots.loc[all_shots[\"PLAYER_NAME\"] == player, \"POSITION_GROUP\"] = position[-1]"
   ]
  },
  {
   "cell_type": "code",
   "execution_count": 47,
   "metadata": {},
   "outputs": [
    {
     "data": {
      "text/plain": [
       "count     2059.000000\n",
       "mean      1948.791161\n",
       "std       3024.429656\n",
       "min          1.000000\n",
       "25%         88.500000\n",
       "50%        590.000000\n",
       "75%       2583.000000\n",
       "max      28042.000000\n",
       "Name: count, dtype: float64"
      ]
     },
     "execution_count": 47,
     "metadata": {},
     "output_type": "execute_result"
    }
   ],
   "source": [
    "# stats for number of shots per player, for players attempted more than thres shots\n",
    "thres = 0\n",
    "shots_per_player = all_shots[\"PLAYER_ID\"].value_counts()\n",
    "shots_per_player[all_shots[\"PLAYER_ID\"].value_counts() > thres].describe()"
   ]
  },
  {
   "cell_type": "code",
   "execution_count": 72,
   "metadata": {},
   "outputs": [
    {
     "data": {
      "text/plain": [
       "count     2059.000000\n",
       "mean      1948.791161\n",
       "std       3024.429656\n",
       "min          1.000000\n",
       "25%         88.500000\n",
       "50%        590.000000\n",
       "75%       2583.000000\n",
       "max      28042.000000\n",
       "Name: count, dtype: float64"
      ]
     },
     "execution_count": 72,
     "metadata": {},
     "output_type": "execute_result"
    }
   ],
   "source": [
    "all_shots[\"PLAYER_ID\"].value_counts().describe()"
   ]
  },
  {
   "cell_type": "code",
   "execution_count": 95,
   "metadata": {},
   "outputs": [],
   "source": [
    "# Check for mismatches between player name and ids\n",
    "names_ID = all_shots[[\"PLAYER_NAME\", \"PLAYER_ID\"]]"
   ]
  },
  {
   "cell_type": "code",
   "execution_count": 96,
   "metadata": {},
   "outputs": [],
   "source": [
    "names_ID = names_ID.drop_duplicates()"
   ]
  },
  {
   "cell_type": "code",
   "execution_count": 97,
   "metadata": {},
   "outputs": [
    {
     "data": {
      "text/html": [
       "<div>\n",
       "<style scoped>\n",
       "    .dataframe tbody tr th:only-of-type {\n",
       "        vertical-align: middle;\n",
       "    }\n",
       "\n",
       "    .dataframe tbody tr th {\n",
       "        vertical-align: top;\n",
       "    }\n",
       "\n",
       "    .dataframe thead th {\n",
       "        text-align: right;\n",
       "    }\n",
       "</style>\n",
       "<table border=\"1\" class=\"dataframe\">\n",
       "  <thead>\n",
       "    <tr style=\"text-align: right;\">\n",
       "      <th></th>\n",
       "      <th>PLAYER_NAME</th>\n",
       "      <th>PLAYER_ID</th>\n",
       "    </tr>\n",
       "  </thead>\n",
       "  <tbody>\n",
       "  </tbody>\n",
       "</table>\n",
       "</div>"
      ],
      "text/plain": [
       "Empty DataFrame\n",
       "Columns: [PLAYER_NAME, PLAYER_ID]\n",
       "Index: []"
      ]
     },
     "execution_count": 97,
     "metadata": {},
     "output_type": "execute_result"
    }
   ],
   "source": [
    "names_ID[names_ID[\"PLAYER_ID\"].duplicated(keep=False)]"
   ]
  },
  {
   "cell_type": "code",
   "execution_count": 94,
   "metadata": {},
   "outputs": [],
   "source": [
    "# We make the names uniform by taking the first occurence name\n",
    "id_dict = {\n",
    "    1628384: \"O.G. Anunoby\",\n",
    "    1630288: \"Jeff Dowtin Jr.\",\n",
    "    1628408: \"PJ Dozier\",\n",
    "    1630197: \"Aleksej Pokusevski\",\n",
    "    1630214: \"Xavier Tillman\",\n",
    "    1630527: \"Brandon Boston Jr.\",\n",
    "}\n",
    "\n",
    "for player_id, player in id_dict.items():\n",
    "    all_shots.loc[all_shots[\"PLAYER_ID\"] == player_id, \"PLAYER_NAME\"] = player"
   ]
  },
  {
   "cell_type": "code",
   "execution_count": 89,
   "metadata": {},
   "outputs": [
    {
     "data": {
      "text/html": [
       "<div>\n",
       "<style scoped>\n",
       "    .dataframe tbody tr th:only-of-type {\n",
       "        vertical-align: middle;\n",
       "    }\n",
       "\n",
       "    .dataframe tbody tr th {\n",
       "        vertical-align: top;\n",
       "    }\n",
       "\n",
       "    .dataframe thead th {\n",
       "        text-align: right;\n",
       "    }\n",
       "</style>\n",
       "<table border=\"1\" class=\"dataframe\">\n",
       "  <thead>\n",
       "    <tr style=\"text-align: right;\">\n",
       "      <th></th>\n",
       "      <th>PLAYER_NAME</th>\n",
       "      <th>PLAYER_ID</th>\n",
       "    </tr>\n",
       "  </thead>\n",
       "  <tbody>\n",
       "    <tr>\n",
       "      <th>434153</th>\n",
       "      <td>Mike James</td>\n",
       "      <td>1628455</td>\n",
       "    </tr>\n",
       "    <tr>\n",
       "      <th>1454354</th>\n",
       "      <td>Chris Johnson</td>\n",
       "      <td>203187</td>\n",
       "    </tr>\n",
       "    <tr>\n",
       "      <th>1855745</th>\n",
       "      <td>Glen Rice</td>\n",
       "      <td>203318</td>\n",
       "    </tr>\n",
       "    <tr>\n",
       "      <th>1868011</th>\n",
       "      <td>Chris Wright</td>\n",
       "      <td>202874</td>\n",
       "    </tr>\n",
       "    <tr>\n",
       "      <th>1869319</th>\n",
       "      <td>Tony Mitchell</td>\n",
       "      <td>203502</td>\n",
       "    </tr>\n",
       "    <tr>\n",
       "      <th>1913218</th>\n",
       "      <td>Tony Mitchell</td>\n",
       "      <td>203183</td>\n",
       "    </tr>\n",
       "    <tr>\n",
       "      <th>1961184</th>\n",
       "      <td>Mike James</td>\n",
       "      <td>2229</td>\n",
       "    </tr>\n",
       "    <tr>\n",
       "      <th>2073254</th>\n",
       "      <td>Chris Johnson</td>\n",
       "      <td>202419</td>\n",
       "    </tr>\n",
       "    <tr>\n",
       "      <th>2108807</th>\n",
       "      <td>Chris Wright</td>\n",
       "      <td>203203</td>\n",
       "    </tr>\n",
       "    <tr>\n",
       "      <th>2635380</th>\n",
       "      <td>Marcus Williams</td>\n",
       "      <td>200766</td>\n",
       "    </tr>\n",
       "    <tr>\n",
       "      <th>2844878</th>\n",
       "      <td>Marcus Williams</td>\n",
       "      <td>201173</td>\n",
       "    </tr>\n",
       "    <tr>\n",
       "      <th>3371995</th>\n",
       "      <td>Steven Smith</td>\n",
       "      <td>200848</td>\n",
       "    </tr>\n",
       "    <tr>\n",
       "      <th>3625394</th>\n",
       "      <td>Steven Smith</td>\n",
       "      <td>120</td>\n",
       "    </tr>\n",
       "    <tr>\n",
       "      <th>3930351</th>\n",
       "      <td>Glen Rice</td>\n",
       "      <td>779</td>\n",
       "    </tr>\n",
       "  </tbody>\n",
       "</table>\n",
       "</div>"
      ],
      "text/plain": [
       "             PLAYER_NAME  PLAYER_ID\n",
       "434153        Mike James    1628455\n",
       "1454354    Chris Johnson     203187\n",
       "1855745        Glen Rice     203318\n",
       "1868011     Chris Wright     202874\n",
       "1869319    Tony Mitchell     203502\n",
       "1913218    Tony Mitchell     203183\n",
       "1961184       Mike James       2229\n",
       "2073254    Chris Johnson     202419\n",
       "2108807     Chris Wright     203203\n",
       "2635380  Marcus Williams     200766\n",
       "2844878  Marcus Williams     201173\n",
       "3371995     Steven Smith     200848\n",
       "3625394     Steven Smith        120\n",
       "3930351        Glen Rice        779"
      ]
     },
     "execution_count": 89,
     "metadata": {},
     "output_type": "execute_result"
    }
   ],
   "source": [
    "names_ID[names_ID[\"PLAYER_NAME\"].duplicated(keep=False)]\n",
    "# We manually check that these are different players with the same name, so there are no inconsistencies to fix here"
   ]
  }
 ],
 "metadata": {
  "kernelspec": {
   "display_name": "base",
   "language": "python",
   "name": "python3"
  },
  "language_info": {
   "codemirror_mode": {
    "name": "ipython",
    "version": 3
   },
   "file_extension": ".py",
   "mimetype": "text/x-python",
   "name": "python",
   "nbconvert_exporter": "python",
   "pygments_lexer": "ipython3",
   "version": "3.11.5"
  }
 },
 "nbformat": 4,
 "nbformat_minor": 2
}
